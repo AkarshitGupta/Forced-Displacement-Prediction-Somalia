{
 "cells": [
  {
   "cell_type": "code",
   "execution_count": 1,
   "metadata": {},
   "outputs": [],
   "source": [
    "import pandas as pd\n",
    "import seaborn as sns\n",
    "import matplotlib.pyplot as plt\n",
    "%matplotlib inline\n",
    "import numpy as np\n",
    "\n",
    "import requests \n",
    "from bs4 import BeautifulSoup \n",
    "from lxml import html"
   ]
  },
  {
   "cell_type": "code",
   "execution_count": null,
   "metadata": {},
   "outputs": [],
   "source": []
  },
  {
   "cell_type": "code",
   "execution_count": 2,
   "metadata": {},
   "outputs": [],
   "source": [
    "#d1 = pd.read_csv(\"d1.csv\")"
   ]
  },
  {
   "cell_type": "code",
   "execution_count": 3,
   "metadata": {},
   "outputs": [],
   "source": [
    "#d1.head()"
   ]
  },
  {
   "cell_type": "code",
   "execution_count": 4,
   "metadata": {},
   "outputs": [],
   "source": [
    "import mechanize\n",
    "import http.cookiejar as cookielib"
   ]
  },
  {
   "cell_type": "code",
   "execution_count": 76,
   "metadata": {},
   "outputs": [
    {
     "data": {
      "text/plain": [
       "<response_seek_wrapper at 0x14f7afb7208 whose wrapped object = <closeable_response at 0x14f7b0e5fd0 whose fp = <mechanize._gzip.UnzipWrapper object at 0x0000014F7B0E5E80>>>"
      ]
     },
     "execution_count": 76,
     "metadata": {},
     "output_type": "execute_result"
    }
   ],
   "source": [
    "#https://stackoverflow.com/questions/20039643/how-to-scrape-a-website-that-requires-login-first-with-python\n",
    "br = mechanize.Browser()\n",
    "\n",
    "# Cookie Jar\n",
    "cj = cookielib.LWPCookieJar()\n",
    "br.set_cookiejar(cj)\n",
    "br.set_handle_equiv(True)\n",
    "br.set_handle_gzip(True)\n",
    "br.set_handle_redirect(True)\n",
    "br.set_handle_referer(True)\n",
    "br.set_handle_robots(False)\n",
    "br.set_handle_refresh(mechanize._http.HTTPRefreshProcessor(), max_time=1)\n",
    "\n",
    "br.addheaders = [('User-agent', 'Chrome')]\n",
    "br.open('http://dashboard.fsnau.org/index/auth')"
   ]
  },
  {
   "cell_type": "code",
   "execution_count": 77,
   "metadata": {},
   "outputs": [
    {
     "name": "stdout",
     "output_type": "stream",
     "text": [
      "<post http://dashboard.fsnau.org/index/login application/x-www-form-urlencoded\n",
      "  <TextControl(username=)>\n",
      "  <PasswordControl(password=)>\n",
      "  <SubmitControl(<None>=Login) (readonly)>>\n"
     ]
    }
   ],
   "source": [
    "for f in br.forms():\n",
    "    print(f)"
   ]
  },
  {
   "cell_type": "code",
   "execution_count": 78,
   "metadata": {},
   "outputs": [
    {
     "data": {
      "text/plain": [
       "<response_seek_wrapper at 0x14f7b1c1780 whose wrapped object = <closeable_response at 0x14f7b1c76d8 whose fp = <mechanize._gzip.UnzipWrapper object at 0x0000014F7B1C7240>>>"
      ]
     },
     "execution_count": 78,
     "metadata": {},
     "output_type": "execute_result"
    }
   ],
   "source": [
    "br.select_form(nr=0)\n",
    "br.form['username'] = 'prabhnoor1997ronaldo@gmail.com'\n",
    "br.form['password'] = 'passwordis1234'\n",
    "br.submit()"
   ]
  },
  {
   "cell_type": "code",
   "execution_count": 79,
   "metadata": {},
   "outputs": [],
   "source": [
    "url = \"http://dashboard.fsnau.org/summary/ts/2?district=2&start=01-Jan-2016&end=01-Sep-2019\"\n",
    "soup = BeautifulSoup(br.open(url).read(), 'html.parser') "
   ]
  },
  {
   "cell_type": "code",
   "execution_count": 80,
   "metadata": {},
   "outputs": [
    {
     "name": "stdout",
     "output_type": "stream",
     "text": [
      "[<h3 style=\"margin-top:0.8em !important\"><a href=\"http://dashboard.fsnau.org/dashboard/index\">EW-EA Dashboard</a> / Districts / Borama </h3>, <h3>Awdal / Borama</h3>]\n",
      "***\n",
      "LOCATION: Awdal / Borama\n"
     ]
    }
   ],
   "source": [
    "print(soup.find_all('h3'))\n",
    "print(\"***\")\n",
    "print(\"LOCATION: \"+soup.find_all('h3')[1].text)"
   ]
  },
  {
   "cell_type": "code",
   "execution_count": 81,
   "metadata": {},
   "outputs": [],
   "source": [
    "#soup.find('table', attrs={'class':'table table-striped responsive-table'}).find('tbody').find_all('tr')[1].find_all('td')"
   ]
  },
  {
   "cell_type": "code",
   "execution_count": null,
   "metadata": {},
   "outputs": [],
   "source": []
  },
  {
   "cell_type": "code",
   "execution_count": null,
   "metadata": {},
   "outputs": [],
   "source": []
  },
  {
   "cell_type": "code",
   "execution_count": null,
   "metadata": {},
   "outputs": [],
   "source": []
  },
  {
   "cell_type": "code",
   "execution_count": 82,
   "metadata": {},
   "outputs": [],
   "source": [
    "data_dict = {}"
   ]
  },
  {
   "cell_type": "code",
   "execution_count": 83,
   "metadata": {},
   "outputs": [
    {
     "name": "stdout",
     "output_type": "stream",
     "text": [
      "Scraping for region : banadir/mogadishu ..........\n",
      "Scraping for region : awdal/borama ..........\n",
      "Scraping for region : awdal/baki ..........\n",
      "Scraping for region : awdal/lughaye ..........\n",
      "Scraping for region : awdal/zeylac ..........\n",
      "Scraping for region : woqooyi_galbeed/hargeysa ..........\n",
      "Scraping for region : woqooyi_galbeed/berbera ..........\n",
      "Scraping for region : woqooyi_galbeed/gebiley ..........\n",
      "Scraping for region : togdheer/burco ..........\n",
      "Scraping for region : togdheer/buuhoodle ..........\n",
      "Scraping for region : togdheer/owdweyne ..........\n",
      "Scraping for region : togdheer/sheikh ..........\n",
      "Scraping for region : sool/laas_caanood ..........\n",
      "Scraping for region : sool/caynabo ..........\n",
      "Scraping for region : sool/taleex ..........\n",
      "Scraping for region : sool/xudun ..........\n",
      "Scraping for region : sanaag/ceerigaabo ..........\n",
      "Scraping for region : sanaag/ceel_afweyn ..........\n",
      "Scraping for region : sanaag/laasqoray ..........\n",
      "Scraping for region : bari/bossaso ..........\n",
      "Scraping for region : bari/bandarbeyla ..........\n",
      "Scraping for region : bari/caluula ..........\n",
      "Scraping for region : bari/iskushuban ..........\n",
      "Scraping for region : bari/qandala ..........\n",
      "Scraping for region : bari/qardho ..........\n",
      "Scraping for region : nugaal/garoowe ..........\n",
      "Scraping for region : nugaal/burtinle ..........\n",
      "Scraping for region : nugaal/eyl ..........\n",
      "Scraping for region : mudug/gaalkacyo ..........\n",
      "Scraping for region : mudug/galdogob ..........\n",
      "Scraping for region : mudug/hobyo ..........\n",
      "Scraping for region : mudug/jariiban ..........\n",
      "Scraping for region : mudug/xarardheere ..........\n",
      "Scraping for region : galgaduud/dhuusamarreeb ..........\n",
      "Scraping for region : galgaduud/cabudwaaq ..........\n",
      "Scraping for region : galgaduud/cadaado ..........\n",
      "Scraping for region : galgaduud/ceel_buur ..........\n",
      "Scraping for region : galgaduud/ceel_dheer ..........\n",
      "Scraping for region : hiraan/belet_weyne ..........\n",
      "Scraping for region : hiraan/bulo_burto ..........\n",
      "Scraping for region : hiraan/jalalaqsi ..........\n",
      "Scraping for region : shabelle_dhexe/jowhar ..........\n",
      "Scraping for region : shabelle_dhexe/adan_yabaal ..........\n",
      "Scraping for region : shabelle_dhexe/balcad ..........\n",
      "Scraping for region : shabelle_dhexe/cadale ..........\n",
      "Scraping for region : shabelle_hoose/marka ..........\n",
      "Scraping for region : shabelle_hoose/afgooye ..........\n",
      "Scraping for region : shabelle_hoose/baraawe ..........\n",
      "Scraping for region : shabelle_hoose/kurtunwaarey ..........\n",
      "Scraping for region : shabelle_hoose/qoryooley ..........\n",
      "Scraping for region : shabelle_hoose/sablaale ..........\n",
      "Scraping for region : shabelle_hoose/wanla_weyn ..........\n",
      "Scraping for region : bay/baydhaba ..........\n",
      "Scraping for region : bay/buur_hakaba ..........\n",
      "Scraping for region : bay/diinsoor ..........\n",
      "Scraping for region : bay/qansax_dheere ..........\n",
      "Scraping for region : bakool/xudur ..........\n",
      "Scraping for region : bakool/ceel_barde ..........\n",
      "Scraping for region : bakool/tayeeglow ..........\n",
      "Scraping for region : bakool/waajid ..........\n",
      "Scraping for region : bakool/rab_dhuure ..........\n",
      "Scraping for region : gedo/garbahaarey ..........\n",
      "Scraping for region : gedo/baardheere ..........\n",
      "Scraping for region : gedo/belet_xaawo ..........\n",
      "Scraping for region : gedo/ceel_waaq ..........\n",
      "Scraping for region : gedo/doolow ..........\n",
      "Scraping for region : gedo/luuq ..........\n",
      "Scraping for region : juba_dhexe/bu'aale ..........\n",
      "Scraping for region : juba_dhexe/jilib ..........\n",
      "Scraping for region : juba_dhexe/saakow ..........\n",
      "Scraping for region : juba_hoose/kismaayo ..........\n",
      "Scraping for region : juba_hoose/afmadow ..........\n",
      "Scraping for region : juba_hoose/badhaadhe ..........\n",
      "Scraping for region : juba_hoose/jamaame ..........\n"
     ]
    }
   ],
   "source": [
    "for region_num in range(1,75):\n",
    "    url = \"http://dashboard.fsnau.org/summary/ts/2?district=\"+str(region_num)+\"&start=01-Jan-2016&end=01-Sep-2019\"\n",
    "    soup = BeautifulSoup(br.open(url).read(), 'html.parser')\n",
    "    region = soup.find_all('h3')[1].text.lower().replace(\" / \",\"/\").replace(\" \",\"_\")\n",
    "    print(\"Scraping for region : %s ..........\"% (region))\n",
    "    data_dict[region] = {}\n",
    "    n_cols = len(soup.find('table', attrs={'class':'table table-striped responsive-table'}).find('tbody').find_all('tr'))\n",
    "    \n",
    "    for i in range(0, n_cols,1):\n",
    "        child_items = soup.find('table', attrs={'class':'table table-striped responsive-table'}).find('tbody').find_all('tr')[i].find_all('td')\n",
    "        col_name = child_items[1].text.lower().replace(\" \",\"_\")\n",
    "        data_dict[region][col_name] = []\n",
    "        for child in child_items[3:-1]:\n",
    "            danger_level = child['class'][0]\n",
    "            date = child['title'].split(\" \")[0]\n",
    "            value = child.text.strip()\n",
    "            data_dict[region][col_name].append([date, danger_level, value])"
   ]
  },
  {
   "cell_type": "code",
   "execution_count": 86,
   "metadata": {},
   "outputs": [
    {
     "data": {
      "text/plain": [
       "74"
      ]
     },
     "execution_count": 86,
     "metadata": {},
     "output_type": "execute_result"
    }
   ],
   "source": [
    "len(data_dict.keys())"
   ]
  },
  {
   "cell_type": "code",
   "execution_count": 96,
   "metadata": {},
   "outputs": [],
   "source": [
    "temp = np.array([(len(data_dict[key]),key) for key in data_dict.keys()])"
   ]
  },
  {
   "cell_type": "code",
   "execution_count": 106,
   "metadata": {},
   "outputs": [],
   "source": [
    "max_col_region = 'gedo/baardheere'"
   ]
  },
  {
   "cell_type": "code",
   "execution_count": 109,
   "metadata": {},
   "outputs": [
    {
     "name": "stdout",
     "output_type": "stream",
     "text": [
      "dict_keys(['climate/rainfall', 'climate/vegetation_cover_(ndvi)', 'climate/price_of_water', 'climate/river_levels/floods', 'population_movement/displacement_(arrivals)', 'population_movement/displacement_(departures)', 'nutrition/new_admissions_(gam)', 'health/measles_cases', 'health/awd/cholera_cases', 'health/malaria_cases', 'health/awd/cholera_deaths', 'market/maize_prices', 'market/sorghum_prices', 'market/local_goat_prices', 'market/wage_labor', 'market/tot_(wage_to_cereals)', 'market/tot_(goat_to_cereals)', 'market/red_rice_prices', 'market/cost_of_minimum_basket_(cmb)'])\n"
     ]
    }
   ],
   "source": [
    "print(data_dict[max_col_region].keys())"
   ]
  },
  {
   "cell_type": "code",
   "execution_count": 112,
   "metadata": {},
   "outputs": [],
   "source": [
    "for region in data_dict.keys():\n",
    "    if set(data_dict[region].keys()).issubset(data_dict[max_col_region].keys()):\n",
    "        pass\n",
    "    else:\n",
    "        print(region)"
   ]
  },
  {
   "cell_type": "code",
   "execution_count": 170,
   "metadata": {},
   "outputs": [],
   "source": [
    "data_cols= list(data_dict[max_col_region].keys())"
   ]
  },
  {
   "cell_type": "code",
   "execution_count": 172,
   "metadata": {},
   "outputs": [],
   "source": [
    "data_cols.extend(['place'])\n",
    "data_cols.extend(['date'])"
   ]
  },
  {
   "cell_type": "code",
   "execution_count": 173,
   "metadata": {},
   "outputs": [
    {
     "data": {
      "text/plain": [
       "['climate/rainfall',\n",
       " 'climate/vegetation_cover_(ndvi)',\n",
       " 'climate/price_of_water',\n",
       " 'climate/river_levels/floods',\n",
       " 'population_movement/displacement_(arrivals)',\n",
       " 'population_movement/displacement_(departures)',\n",
       " 'nutrition/new_admissions_(gam)',\n",
       " 'health/measles_cases',\n",
       " 'health/awd/cholera_cases',\n",
       " 'health/malaria_cases',\n",
       " 'health/awd/cholera_deaths',\n",
       " 'market/maize_prices',\n",
       " 'market/sorghum_prices',\n",
       " 'market/local_goat_prices',\n",
       " 'market/wage_labor',\n",
       " 'market/tot_(wage_to_cereals)',\n",
       " 'market/tot_(goat_to_cereals)',\n",
       " 'market/red_rice_prices',\n",
       " 'market/cost_of_minimum_basket_(cmb)',\n",
       " 'place',\n",
       " 'date']"
      ]
     },
     "execution_count": 173,
     "metadata": {},
     "output_type": "execute_result"
    }
   ],
   "source": [
    "data_cols"
   ]
  },
  {
   "cell_type": "code",
   "execution_count": 157,
   "metadata": {},
   "outputs": [],
   "source": [
    "num_cols = len(data_dict[max_col_region].keys())"
   ]
  },
  {
   "cell_type": "code",
   "execution_count": 227,
   "metadata": {},
   "outputs": [],
   "source": [
    "#data_list = [[]]*num_cols"
   ]
  },
  {
   "cell_type": "code",
   "execution_count": 183,
   "metadata": {},
   "outputs": [
    {
     "data": {
      "text/plain": [
       "0"
      ]
     },
     "execution_count": 183,
     "metadata": {},
     "output_type": "execute_result"
    }
   ],
   "source": [
    "data_cols.index(list(data_dict[region].keys())[0])"
   ]
  },
  {
   "cell_type": "code",
   "execution_count": 198,
   "metadata": {},
   "outputs": [
    {
     "data": {
      "text/plain": [
       "21"
      ]
     },
     "execution_count": 198,
     "metadata": {},
     "output_type": "execute_result"
    }
   ],
   "source": [
    "len(data_cols)"
   ]
  },
  {
   "cell_type": "code",
   "execution_count": 228,
   "metadata": {},
   "outputs": [],
   "source": [
    "#data_cols.index(list(data_dict[region].keys())[3])"
   ]
  },
  {
   "cell_type": "code",
   "execution_count": 225,
   "metadata": {},
   "outputs": [],
   "source": []
  },
  {
   "cell_type": "code",
   "execution_count": null,
   "metadata": {},
   "outputs": [],
   "source": []
  },
  {
   "cell_type": "code",
   "execution_count": null,
   "metadata": {},
   "outputs": [],
   "source": []
  },
  {
   "cell_type": "code",
   "execution_count": 238,
   "metadata": {},
   "outputs": [
    {
     "data": {
      "text/plain": [
       "44"
      ]
     },
     "execution_count": 238,
     "metadata": {},
     "output_type": "execute_result"
    }
   ],
   "source": [
    "len(data_dict[region]['climate/rainfall'])"
   ]
  },
  {
   "cell_type": "code",
   "execution_count": 284,
   "metadata": {},
   "outputs": [],
   "source": [
    "regions = list(data_dict.keys())"
   ]
  },
  {
   "cell_type": "code",
   "execution_count": 285,
   "metadata": {},
   "outputs": [
    {
     "name": "stdout",
     "output_type": "stream",
     "text": [
      "Processing Region banadir/mogadishu >.......\n",
      "Processing Region awdal/borama >.......\n",
      "Processing Region awdal/baki >.......\n",
      "Processing Region awdal/lughaye >.......\n",
      "Processing Region awdal/zeylac >.......\n",
      "Processing Region woqooyi_galbeed/hargeysa >.......\n",
      "Processing Region woqooyi_galbeed/berbera >.......\n",
      "Processing Region woqooyi_galbeed/gebiley >.......\n",
      "Processing Region togdheer/burco >.......\n",
      "Processing Region togdheer/buuhoodle >.......\n",
      "Processing Region togdheer/owdweyne >.......\n",
      "Processing Region togdheer/sheikh >.......\n",
      "Processing Region sool/laas_caanood >.......\n",
      "Processing Region sool/caynabo >.......\n",
      "Processing Region sool/taleex >.......\n",
      "Processing Region sool/xudun >.......\n",
      "Processing Region sanaag/ceerigaabo >.......\n",
      "Processing Region sanaag/ceel_afweyn >.......\n",
      "Processing Region sanaag/laasqoray >.......\n",
      "Processing Region bari/bossaso >.......\n",
      "Processing Region bari/bandarbeyla >.......\n",
      "Processing Region bari/caluula >.......\n",
      "Processing Region bari/iskushuban >.......\n",
      "Processing Region bari/qandala >.......\n",
      "Processing Region bari/qardho >.......\n",
      "Processing Region nugaal/garoowe >.......\n",
      "Processing Region nugaal/burtinle >.......\n",
      "Processing Region nugaal/eyl >.......\n",
      "Processing Region mudug/gaalkacyo >.......\n",
      "Processing Region mudug/galdogob >.......\n",
      "Processing Region mudug/hobyo >.......\n",
      "Processing Region mudug/jariiban >.......\n",
      "Processing Region mudug/xarardheere >.......\n",
      "Processing Region galgaduud/dhuusamarreeb >.......\n",
      "Processing Region galgaduud/cabudwaaq >.......\n",
      "Processing Region galgaduud/cadaado >.......\n",
      "Processing Region galgaduud/ceel_buur >.......\n",
      "Processing Region galgaduud/ceel_dheer >.......\n",
      "Processing Region hiraan/belet_weyne >.......\n",
      "Processing Region hiraan/bulo_burto >.......\n",
      "Processing Region hiraan/jalalaqsi >.......\n",
      "Processing Region shabelle_dhexe/jowhar >.......\n",
      "Processing Region shabelle_dhexe/adan_yabaal >.......\n",
      "Processing Region shabelle_dhexe/balcad >.......\n",
      "Processing Region shabelle_dhexe/cadale >.......\n",
      "Processing Region shabelle_hoose/marka >.......\n",
      "Processing Region shabelle_hoose/afgooye >.......\n",
      "Processing Region shabelle_hoose/baraawe >.......\n",
      "Processing Region shabelle_hoose/kurtunwaarey >.......\n",
      "Processing Region shabelle_hoose/qoryooley >.......\n",
      "Processing Region shabelle_hoose/sablaale >.......\n",
      "Processing Region shabelle_hoose/wanla_weyn >.......\n",
      "Processing Region bay/baydhaba >.......\n",
      "Processing Region bay/buur_hakaba >.......\n",
      "Processing Region bay/diinsoor >.......\n",
      "Processing Region bay/qansax_dheere >.......\n",
      "Processing Region bakool/xudur >.......\n",
      "Processing Region bakool/ceel_barde >.......\n",
      "Processing Region bakool/tayeeglow >.......\n",
      "Processing Region bakool/waajid >.......\n",
      "Processing Region bakool/rab_dhuure >.......\n",
      "Processing Region gedo/garbahaarey >.......\n",
      "Processing Region gedo/baardheere >.......\n",
      "Processing Region gedo/belet_xaawo >.......\n",
      "Processing Region gedo/ceel_waaq >.......\n",
      "Processing Region gedo/doolow >.......\n",
      "Processing Region gedo/luuq >.......\n",
      "Processing Region juba_dhexe/bu'aale >.......\n",
      "Processing Region juba_dhexe/jilib >.......\n",
      "Processing Region juba_dhexe/saakow >.......\n",
      "Processing Region juba_hoose/kismaayo >.......\n",
      "Processing Region juba_hoose/afmadow >.......\n",
      "Processing Region juba_hoose/badhaadhe >.......\n",
      "Processing Region juba_hoose/jamaame >.......\n"
     ]
    }
   ],
   "source": [
    "data_list = []\n",
    "for i in range(0,num_cols):\n",
    "    data_list.append([])\n",
    "    \n",
    "for region in regions:\n",
    "    print(\"Processing Region %s >.......\"% (region))\n",
    "    current_columns = list(data_dict[region].keys())\n",
    "    for index, col in enumerate(data_cols[:-2]):\n",
    "        if col in current_columns:\n",
    "            for values_list in data_dict[region][col]:\n",
    "                data_list[index].append(values_list[2])\n",
    "        else:\n",
    "            data_list[index].extend(['No Data']*44)"
   ]
  },
  {
   "cell_type": "code",
   "execution_count": 286,
   "metadata": {},
   "outputs": [
    {
     "name": "stdout",
     "output_type": "stream",
     "text": [
      "19\n",
      "3256\n"
     ]
    }
   ],
   "source": [
    "print(len(data_list))\n",
    "print(len(data_list[0]))"
   ]
  },
  {
   "cell_type": "code",
   "execution_count": 287,
   "metadata": {},
   "outputs": [
    {
     "data": {
      "text/plain": [
       "['climate/rainfall',\n",
       " 'climate/vegetation_cover_(ndvi)',\n",
       " 'climate/price_of_water',\n",
       " 'climate/river_levels/floods',\n",
       " 'population_movement/displacement_(arrivals)',\n",
       " 'population_movement/displacement_(departures)',\n",
       " 'nutrition/new_admissions_(gam)',\n",
       " 'health/measles_cases',\n",
       " 'health/awd/cholera_cases',\n",
       " 'health/malaria_cases',\n",
       " 'health/awd/cholera_deaths',\n",
       " 'market/maize_prices',\n",
       " 'market/sorghum_prices',\n",
       " 'market/local_goat_prices',\n",
       " 'market/wage_labor',\n",
       " 'market/tot_(wage_to_cereals)',\n",
       " 'market/tot_(goat_to_cereals)',\n",
       " 'market/red_rice_prices',\n",
       " 'market/cost_of_minimum_basket_(cmb)',\n",
       " 'place',\n",
       " 'date']"
      ]
     },
     "execution_count": 287,
     "metadata": {},
     "output_type": "execute_result"
    }
   ],
   "source": [
    "data_cols"
   ]
  },
  {
   "cell_type": "code",
   "execution_count": 288,
   "metadata": {},
   "outputs": [],
   "source": [
    "import pandas as pd"
   ]
  },
  {
   "cell_type": "code",
   "execution_count": 289,
   "metadata": {},
   "outputs": [],
   "source": [
    "fansu_data = pd.DataFrame(columns=data_cols[-2:]+data_cols[:-2])"
   ]
  },
  {
   "cell_type": "code",
   "execution_count": 290,
   "metadata": {},
   "outputs": [],
   "source": [
    "for ind, col in enumerate(data_cols[:-2]):\n",
    "    fansu_data[col] = data_list[ind]"
   ]
  },
  {
   "cell_type": "code",
   "execution_count": 291,
   "metadata": {},
   "outputs": [],
   "source": [
    "solo_dates = [iterator[0] for iterator in data_dict['juba_hoose/jamaame']['climate/rainfall']]"
   ]
  },
  {
   "cell_type": "code",
   "execution_count": 292,
   "metadata": {},
   "outputs": [],
   "source": [
    "fansu_data['date'] = solo_dates*74"
   ]
  },
  {
   "cell_type": "code",
   "execution_count": 304,
   "metadata": {},
   "outputs": [
    {
     "data": {
      "text/plain": [
       "3256"
      ]
     },
     "execution_count": 304,
     "metadata": {},
     "output_type": "execute_result"
    }
   ],
   "source": [
    "repeated_regions = []\n",
    "for r in regions:\n",
    "    repeated_regions.extend([r]*44)\n",
    "len(repeated_regions)"
   ]
  },
  {
   "cell_type": "code",
   "execution_count": 305,
   "metadata": {},
   "outputs": [],
   "source": [
    "fansu_data['place'] = repeated_regions"
   ]
  },
  {
   "cell_type": "code",
   "execution_count": 306,
   "metadata": {},
   "outputs": [
    {
     "data": {
      "text/html": [
       "<div>\n",
       "<style scoped>\n",
       "    .dataframe tbody tr th:only-of-type {\n",
       "        vertical-align: middle;\n",
       "    }\n",
       "\n",
       "    .dataframe tbody tr th {\n",
       "        vertical-align: top;\n",
       "    }\n",
       "\n",
       "    .dataframe thead th {\n",
       "        text-align: right;\n",
       "    }\n",
       "</style>\n",
       "<table border=\"1\" class=\"dataframe\">\n",
       "  <thead>\n",
       "    <tr style=\"text-align: right;\">\n",
       "      <th></th>\n",
       "      <th>place</th>\n",
       "      <th>date</th>\n",
       "      <th>climate/rainfall</th>\n",
       "      <th>climate/vegetation_cover_(ndvi)</th>\n",
       "      <th>climate/price_of_water</th>\n",
       "      <th>climate/river_levels/floods</th>\n",
       "      <th>population_movement/displacement_(arrivals)</th>\n",
       "      <th>population_movement/displacement_(departures)</th>\n",
       "      <th>nutrition/new_admissions_(gam)</th>\n",
       "      <th>health/measles_cases</th>\n",
       "      <th>...</th>\n",
       "      <th>health/malaria_cases</th>\n",
       "      <th>health/awd/cholera_deaths</th>\n",
       "      <th>market/maize_prices</th>\n",
       "      <th>market/sorghum_prices</th>\n",
       "      <th>market/local_goat_prices</th>\n",
       "      <th>market/wage_labor</th>\n",
       "      <th>market/tot_(wage_to_cereals)</th>\n",
       "      <th>market/tot_(goat_to_cereals)</th>\n",
       "      <th>market/red_rice_prices</th>\n",
       "      <th>market/cost_of_minimum_basket_(cmb)</th>\n",
       "    </tr>\n",
       "  </thead>\n",
       "  <tbody>\n",
       "    <tr>\n",
       "      <td>0</td>\n",
       "      <td>banadir/mogadishu</td>\n",
       "      <td>Jan-2016</td>\n",
       "      <td>No Data</td>\n",
       "      <td>No Data</td>\n",
       "      <td>No Data</td>\n",
       "      <td>No Data</td>\n",
       "      <td>574</td>\n",
       "      <td>148</td>\n",
       "      <td>-</td>\n",
       "      <td>39</td>\n",
       "      <td>...</td>\n",
       "      <td>316</td>\n",
       "      <td>-</td>\n",
       "      <td>6500</td>\n",
       "      <td>6000</td>\n",
       "      <td>1600000</td>\n",
       "      <td>167500</td>\n",
       "      <td>26</td>\n",
       "      <td>246</td>\n",
       "      <td>12000</td>\n",
       "      <td>2024750</td>\n",
       "    </tr>\n",
       "    <tr>\n",
       "      <td>1</td>\n",
       "      <td>banadir/mogadishu</td>\n",
       "      <td>Feb-2016</td>\n",
       "      <td>No Data</td>\n",
       "      <td>No Data</td>\n",
       "      <td>No Data</td>\n",
       "      <td>No Data</td>\n",
       "      <td>708</td>\n",
       "      <td>32</td>\n",
       "      <td>2511</td>\n",
       "      <td>39</td>\n",
       "      <td>...</td>\n",
       "      <td>369</td>\n",
       "      <td>-</td>\n",
       "      <td>6400</td>\n",
       "      <td>6000</td>\n",
       "      <td>1600000</td>\n",
       "      <td>164000</td>\n",
       "      <td>26</td>\n",
       "      <td>250</td>\n",
       "      <td>12000</td>\n",
       "      <td>2028916.67</td>\n",
       "    </tr>\n",
       "    <tr>\n",
       "      <td>2</td>\n",
       "      <td>banadir/mogadishu</td>\n",
       "      <td>Mar-2016</td>\n",
       "      <td>No Data</td>\n",
       "      <td>No Data</td>\n",
       "      <td>No Data</td>\n",
       "      <td>No Data</td>\n",
       "      <td>656</td>\n",
       "      <td>16</td>\n",
       "      <td>5075</td>\n",
       "      <td>29</td>\n",
       "      <td>...</td>\n",
       "      <td>411</td>\n",
       "      <td>-</td>\n",
       "      <td>6425</td>\n",
       "      <td>5800</td>\n",
       "      <td>1650000</td>\n",
       "      <td>167500</td>\n",
       "      <td>26</td>\n",
       "      <td>257</td>\n",
       "      <td>12000</td>\n",
       "      <td>1960525</td>\n",
       "    </tr>\n",
       "    <tr>\n",
       "      <td>3</td>\n",
       "      <td>banadir/mogadishu</td>\n",
       "      <td>Apr-2016</td>\n",
       "      <td>No Data</td>\n",
       "      <td>No Data</td>\n",
       "      <td>No Data</td>\n",
       "      <td>No Data</td>\n",
       "      <td>498</td>\n",
       "      <td>40</td>\n",
       "      <td>4536</td>\n",
       "      <td>21</td>\n",
       "      <td>...</td>\n",
       "      <td>332</td>\n",
       "      <td>-</td>\n",
       "      <td>7260</td>\n",
       "      <td>6080</td>\n",
       "      <td>1840000</td>\n",
       "      <td>160000</td>\n",
       "      <td>22</td>\n",
       "      <td>253</td>\n",
       "      <td>12000</td>\n",
       "      <td>2033733.75</td>\n",
       "    </tr>\n",
       "    <tr>\n",
       "      <td>4</td>\n",
       "      <td>banadir/mogadishu</td>\n",
       "      <td>May-2016</td>\n",
       "      <td>No Data</td>\n",
       "      <td>No Data</td>\n",
       "      <td>No Data</td>\n",
       "      <td>No Data</td>\n",
       "      <td>716</td>\n",
       "      <td>22</td>\n",
       "      <td>2843</td>\n",
       "      <td>22</td>\n",
       "      <td>...</td>\n",
       "      <td>303</td>\n",
       "      <td>-</td>\n",
       "      <td>8960</td>\n",
       "      <td>6080</td>\n",
       "      <td>1900000</td>\n",
       "      <td>160000</td>\n",
       "      <td>18</td>\n",
       "      <td>212</td>\n",
       "      <td>12000</td>\n",
       "      <td>2065682.5</td>\n",
       "    </tr>\n",
       "    <tr>\n",
       "      <td>...</td>\n",
       "      <td>...</td>\n",
       "      <td>...</td>\n",
       "      <td>...</td>\n",
       "      <td>...</td>\n",
       "      <td>...</td>\n",
       "      <td>...</td>\n",
       "      <td>...</td>\n",
       "      <td>...</td>\n",
       "      <td>...</td>\n",
       "      <td>...</td>\n",
       "      <td>...</td>\n",
       "      <td>...</td>\n",
       "      <td>...</td>\n",
       "      <td>...</td>\n",
       "      <td>...</td>\n",
       "      <td>...</td>\n",
       "      <td>...</td>\n",
       "      <td>...</td>\n",
       "      <td>...</td>\n",
       "      <td>...</td>\n",
       "      <td>...</td>\n",
       "    </tr>\n",
       "    <tr>\n",
       "      <td>3251</td>\n",
       "      <td>juba_hoose/jamaame</td>\n",
       "      <td>Apr-2019</td>\n",
       "      <td>24.02</td>\n",
       "      <td>0.29</td>\n",
       "      <td>10000</td>\n",
       "      <td>No Data</td>\n",
       "      <td>493</td>\n",
       "      <td>802</td>\n",
       "      <td>-</td>\n",
       "      <td>-</td>\n",
       "      <td>...</td>\n",
       "      <td>12</td>\n",
       "      <td>No Data</td>\n",
       "      <td>5500</td>\n",
       "      <td>No Data</td>\n",
       "      <td>825000</td>\n",
       "      <td>100000</td>\n",
       "      <td>18</td>\n",
       "      <td>150</td>\n",
       "      <td>16000</td>\n",
       "      <td>1855875</td>\n",
       "    </tr>\n",
       "    <tr>\n",
       "      <td>3252</td>\n",
       "      <td>juba_hoose/jamaame</td>\n",
       "      <td>May-2019</td>\n",
       "      <td>139.11</td>\n",
       "      <td>0.33</td>\n",
       "      <td>10000</td>\n",
       "      <td>No Data</td>\n",
       "      <td>777</td>\n",
       "      <td>1217</td>\n",
       "      <td>-</td>\n",
       "      <td>-</td>\n",
       "      <td>...</td>\n",
       "      <td>31</td>\n",
       "      <td>No Data</td>\n",
       "      <td>6900</td>\n",
       "      <td>No Data</td>\n",
       "      <td>825000</td>\n",
       "      <td>100000</td>\n",
       "      <td>14</td>\n",
       "      <td>120</td>\n",
       "      <td>16000</td>\n",
       "      <td>1904375</td>\n",
       "    </tr>\n",
       "    <tr>\n",
       "      <td>3253</td>\n",
       "      <td>juba_hoose/jamaame</td>\n",
       "      <td>Jun-2019</td>\n",
       "      <td>21.58</td>\n",
       "      <td>0.44</td>\n",
       "      <td>10000</td>\n",
       "      <td>No Data</td>\n",
       "      <td>802</td>\n",
       "      <td>1208</td>\n",
       "      <td>-</td>\n",
       "      <td>-</td>\n",
       "      <td>...</td>\n",
       "      <td>18</td>\n",
       "      <td>No Data</td>\n",
       "      <td>7000</td>\n",
       "      <td>No Data</td>\n",
       "      <td>800000</td>\n",
       "      <td>100000</td>\n",
       "      <td>14</td>\n",
       "      <td>114</td>\n",
       "      <td>16000</td>\n",
       "      <td>1960000</td>\n",
       "    </tr>\n",
       "    <tr>\n",
       "      <td>3254</td>\n",
       "      <td>juba_hoose/jamaame</td>\n",
       "      <td>Jul-2019</td>\n",
       "      <td>12.17</td>\n",
       "      <td>0.46</td>\n",
       "      <td>1000</td>\n",
       "      <td>No Data</td>\n",
       "      <td>910</td>\n",
       "      <td>1516</td>\n",
       "      <td>-</td>\n",
       "      <td>3</td>\n",
       "      <td>...</td>\n",
       "      <td>41</td>\n",
       "      <td>No Data</td>\n",
       "      <td>9000</td>\n",
       "      <td>No Data</td>\n",
       "      <td>800000</td>\n",
       "      <td>120000</td>\n",
       "      <td>13</td>\n",
       "      <td>89</td>\n",
       "      <td>15000</td>\n",
       "      <td>1951575</td>\n",
       "    </tr>\n",
       "    <tr>\n",
       "      <td>3255</td>\n",
       "      <td>juba_hoose/jamaame</td>\n",
       "      <td>Aug-2019</td>\n",
       "      <td>57.83</td>\n",
       "      <td>0.44</td>\n",
       "      <td>10000</td>\n",
       "      <td>No Data</td>\n",
       "      <td>452</td>\n",
       "      <td>884</td>\n",
       "      <td>-</td>\n",
       "      <td>-</td>\n",
       "      <td>...</td>\n",
       "      <td>8</td>\n",
       "      <td>No Data</td>\n",
       "      <td>8125</td>\n",
       "      <td>No Data</td>\n",
       "      <td>675000</td>\n",
       "      <td>95000</td>\n",
       "      <td>12</td>\n",
       "      <td>83</td>\n",
       "      <td>16000</td>\n",
       "      <td>2096075</td>\n",
       "    </tr>\n",
       "  </tbody>\n",
       "</table>\n",
       "<p>3256 rows × 21 columns</p>\n",
       "</div>"
      ],
      "text/plain": [
       "                   place      date climate/rainfall  \\\n",
       "0      banadir/mogadishu  Jan-2016          No Data   \n",
       "1      banadir/mogadishu  Feb-2016          No Data   \n",
       "2      banadir/mogadishu  Mar-2016          No Data   \n",
       "3      banadir/mogadishu  Apr-2016          No Data   \n",
       "4      banadir/mogadishu  May-2016          No Data   \n",
       "...                  ...       ...              ...   \n",
       "3251  juba_hoose/jamaame  Apr-2019            24.02   \n",
       "3252  juba_hoose/jamaame  May-2019           139.11   \n",
       "3253  juba_hoose/jamaame  Jun-2019            21.58   \n",
       "3254  juba_hoose/jamaame  Jul-2019            12.17   \n",
       "3255  juba_hoose/jamaame  Aug-2019            57.83   \n",
       "\n",
       "     climate/vegetation_cover_(ndvi) climate/price_of_water  \\\n",
       "0                            No Data                No Data   \n",
       "1                            No Data                No Data   \n",
       "2                            No Data                No Data   \n",
       "3                            No Data                No Data   \n",
       "4                            No Data                No Data   \n",
       "...                              ...                    ...   \n",
       "3251                            0.29                  10000   \n",
       "3252                            0.33                  10000   \n",
       "3253                            0.44                  10000   \n",
       "3254                            0.46                   1000   \n",
       "3255                            0.44                  10000   \n",
       "\n",
       "     climate/river_levels/floods population_movement/displacement_(arrivals)  \\\n",
       "0                        No Data                                         574   \n",
       "1                        No Data                                         708   \n",
       "2                        No Data                                         656   \n",
       "3                        No Data                                         498   \n",
       "4                        No Data                                         716   \n",
       "...                          ...                                         ...   \n",
       "3251                     No Data                                         493   \n",
       "3252                     No Data                                         777   \n",
       "3253                     No Data                                         802   \n",
       "3254                     No Data                                         910   \n",
       "3255                     No Data                                         452   \n",
       "\n",
       "     population_movement/displacement_(departures)  \\\n",
       "0                                              148   \n",
       "1                                               32   \n",
       "2                                               16   \n",
       "3                                               40   \n",
       "4                                               22   \n",
       "...                                            ...   \n",
       "3251                                           802   \n",
       "3252                                          1217   \n",
       "3253                                          1208   \n",
       "3254                                          1516   \n",
       "3255                                           884   \n",
       "\n",
       "     nutrition/new_admissions_(gam) health/measles_cases  ...  \\\n",
       "0                                 -                   39  ...   \n",
       "1                              2511                   39  ...   \n",
       "2                              5075                   29  ...   \n",
       "3                              4536                   21  ...   \n",
       "4                              2843                   22  ...   \n",
       "...                             ...                  ...  ...   \n",
       "3251                              -                    -  ...   \n",
       "3252                              -                    -  ...   \n",
       "3253                              -                    -  ...   \n",
       "3254                              -                    3  ...   \n",
       "3255                              -                    -  ...   \n",
       "\n",
       "     health/malaria_cases health/awd/cholera_deaths market/maize_prices  \\\n",
       "0                     316                         -                6500   \n",
       "1                     369                         -                6400   \n",
       "2                     411                         -                6425   \n",
       "3                     332                         -                7260   \n",
       "4                     303                         -                8960   \n",
       "...                   ...                       ...                 ...   \n",
       "3251                   12                   No Data                5500   \n",
       "3252                   31                   No Data                6900   \n",
       "3253                   18                   No Data                7000   \n",
       "3254                   41                   No Data                9000   \n",
       "3255                    8                   No Data                8125   \n",
       "\n",
       "     market/sorghum_prices market/local_goat_prices market/wage_labor  \\\n",
       "0                     6000                  1600000            167500   \n",
       "1                     6000                  1600000            164000   \n",
       "2                     5800                  1650000            167500   \n",
       "3                     6080                  1840000            160000   \n",
       "4                     6080                  1900000            160000   \n",
       "...                    ...                      ...               ...   \n",
       "3251               No Data                   825000            100000   \n",
       "3252               No Data                   825000            100000   \n",
       "3253               No Data                   800000            100000   \n",
       "3254               No Data                   800000            120000   \n",
       "3255               No Data                   675000             95000   \n",
       "\n",
       "     market/tot_(wage_to_cereals) market/tot_(goat_to_cereals)  \\\n",
       "0                              26                          246   \n",
       "1                              26                          250   \n",
       "2                              26                          257   \n",
       "3                              22                          253   \n",
       "4                              18                          212   \n",
       "...                           ...                          ...   \n",
       "3251                           18                          150   \n",
       "3252                           14                          120   \n",
       "3253                           14                          114   \n",
       "3254                           13                           89   \n",
       "3255                           12                           83   \n",
       "\n",
       "     market/red_rice_prices market/cost_of_minimum_basket_(cmb)  \n",
       "0                     12000                             2024750  \n",
       "1                     12000                          2028916.67  \n",
       "2                     12000                             1960525  \n",
       "3                     12000                          2033733.75  \n",
       "4                     12000                           2065682.5  \n",
       "...                     ...                                 ...  \n",
       "3251                  16000                             1855875  \n",
       "3252                  16000                             1904375  \n",
       "3253                  16000                             1960000  \n",
       "3254                  15000                             1951575  \n",
       "3255                  16000                             2096075  \n",
       "\n",
       "[3256 rows x 21 columns]"
      ]
     },
     "execution_count": 306,
     "metadata": {},
     "output_type": "execute_result"
    }
   ],
   "source": [
    "fansu_data"
   ]
  },
  {
   "cell_type": "code",
   "execution_count": null,
   "metadata": {},
   "outputs": [],
   "source": []
  },
  {
   "cell_type": "code",
   "execution_count": null,
   "metadata": {},
   "outputs": [],
   "source": []
  }
 ],
 "metadata": {
  "kernelspec": {
   "display_name": "Python 3",
   "language": "python",
   "name": "python3"
  },
  "language_info": {
   "codemirror_mode": {
    "name": "ipython",
    "version": 3
   },
   "file_extension": ".py",
   "mimetype": "text/x-python",
   "name": "python",
   "nbconvert_exporter": "python",
   "pygments_lexer": "ipython3",
   "version": "3.7.3"
  }
 },
 "nbformat": 4,
 "nbformat_minor": 4
}
